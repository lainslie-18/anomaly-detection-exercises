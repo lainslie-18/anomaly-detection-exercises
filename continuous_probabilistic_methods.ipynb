{
 "cells": [
  {
   "cell_type": "code",
   "execution_count": 3,
   "id": "76497e9e",
   "metadata": {},
   "outputs": [],
   "source": [
    "import numpy as np\n",
    "import pandas as pd\n",
    "import matplotlib.pyplot as plt\n",
    "import seaborn as sns"
   ]
  },
  {
   "cell_type": "code",
   "execution_count": 28,
   "id": "8efe96f2",
   "metadata": {},
   "outputs": [],
   "source": [
    "def get_lower_and_upper_bounds(series, df=df, multiplier=1.5):\n",
    "    '''\n",
    "    This function takes in a series and a multiplier and returns series items that are greater than the multiplier\n",
    "    times the interquartile range above the 75th percentile and less than the multiplier times the interquartile range\n",
    "    below the 25th percentile\n",
    "    '''\n",
    "    # get value at the 25th percentile\n",
    "    q1 = df[series].quantile(0.25)\n",
    "    # get value at the 75th percentile\n",
    "    q3 = df[series].quantile(0.75)\n",
    "    # calculate interquartile range\n",
    "    iqr = q3 - q1\n",
    "    # calculate upper and lower limits for the whiskers\n",
    "    lower_limit = q1 - (multiplier * iqr)\n",
    "    upper_limit = q3 + (multiplier * iqr)\n",
    "    # get outliers outside this range\n",
    "    upper_outliers = df[(df[series] > upper_limit)]\n",
    "    lower_outliers = df[(df[series] < lower_limit)]\n",
    "    \n",
    "    return upper_outliers, lower_outliers"
   ]
  },
  {
   "cell_type": "markdown",
   "id": "aec70300",
   "metadata": {},
   "source": [
    "# Exercise 1\n",
    "\n",
    "Using lemonade.csv dataset and focusing on continuous variables:"
   ]
  },
  {
   "cell_type": "code",
   "execution_count": 5,
   "id": "2b614e30",
   "metadata": {},
   "outputs": [
    {
     "data": {
      "text/html": [
       "<div>\n",
       "<style scoped>\n",
       "    .dataframe tbody tr th:only-of-type {\n",
       "        vertical-align: middle;\n",
       "    }\n",
       "\n",
       "    .dataframe tbody tr th {\n",
       "        vertical-align: top;\n",
       "    }\n",
       "\n",
       "    .dataframe thead th {\n",
       "        text-align: right;\n",
       "    }\n",
       "</style>\n",
       "<table border=\"1\" class=\"dataframe\">\n",
       "  <thead>\n",
       "    <tr style=\"text-align: right;\">\n",
       "      <th></th>\n",
       "      <th>Date</th>\n",
       "      <th>Day</th>\n",
       "      <th>Temperature</th>\n",
       "      <th>Rainfall</th>\n",
       "      <th>Flyers</th>\n",
       "      <th>Price</th>\n",
       "      <th>Sales</th>\n",
       "    </tr>\n",
       "  </thead>\n",
       "  <tbody>\n",
       "    <tr>\n",
       "      <th>0</th>\n",
       "      <td>1/1/17</td>\n",
       "      <td>Sunday</td>\n",
       "      <td>27.0</td>\n",
       "      <td>2.00</td>\n",
       "      <td>15</td>\n",
       "      <td>0.5</td>\n",
       "      <td>10</td>\n",
       "    </tr>\n",
       "    <tr>\n",
       "      <th>1</th>\n",
       "      <td>1/2/17</td>\n",
       "      <td>Monday</td>\n",
       "      <td>28.9</td>\n",
       "      <td>1.33</td>\n",
       "      <td>15</td>\n",
       "      <td>0.5</td>\n",
       "      <td>13</td>\n",
       "    </tr>\n",
       "    <tr>\n",
       "      <th>2</th>\n",
       "      <td>1/3/17</td>\n",
       "      <td>Tuesday</td>\n",
       "      <td>34.5</td>\n",
       "      <td>1.33</td>\n",
       "      <td>27</td>\n",
       "      <td>0.5</td>\n",
       "      <td>15</td>\n",
       "    </tr>\n",
       "    <tr>\n",
       "      <th>3</th>\n",
       "      <td>1/4/17</td>\n",
       "      <td>Wednesday</td>\n",
       "      <td>44.1</td>\n",
       "      <td>1.05</td>\n",
       "      <td>28</td>\n",
       "      <td>0.5</td>\n",
       "      <td>17</td>\n",
       "    </tr>\n",
       "    <tr>\n",
       "      <th>4</th>\n",
       "      <td>1/5/17</td>\n",
       "      <td>Thursday</td>\n",
       "      <td>42.4</td>\n",
       "      <td>1.00</td>\n",
       "      <td>33</td>\n",
       "      <td>0.5</td>\n",
       "      <td>18</td>\n",
       "    </tr>\n",
       "  </tbody>\n",
       "</table>\n",
       "</div>"
      ],
      "text/plain": [
       "     Date        Day  Temperature  Rainfall  Flyers  Price  Sales\n",
       "0  1/1/17     Sunday         27.0      2.00      15    0.5     10\n",
       "1  1/2/17     Monday         28.9      1.33      15    0.5     13\n",
       "2  1/3/17    Tuesday         34.5      1.33      27    0.5     15\n",
       "3  1/4/17  Wednesday         44.1      1.05      28    0.5     17\n",
       "4  1/5/17   Thursday         42.4      1.00      33    0.5     18"
      ]
     },
     "execution_count": 5,
     "metadata": {},
     "output_type": "execute_result"
    }
   ],
   "source": [
    "# pull in data\n",
    "df = pd.read_csv('https://gist.githubusercontent.com/ryanorsinger/19bc7eccd6279661bd13307026628ace/raw/e4b5d6787015a4782f96cad6d1d62a8bdbac54c7/lemonade.csv')\n",
    "df.head()"
   ]
  },
  {
   "cell_type": "code",
   "execution_count": 10,
   "id": "238e5fc5",
   "metadata": {},
   "outputs": [
    {
     "name": "stdout",
     "output_type": "stream",
     "text": [
      "<class 'pandas.core.frame.DataFrame'>\n",
      "RangeIndex: 365 entries, 0 to 364\n",
      "Data columns (total 7 columns):\n",
      " #   Column       Non-Null Count  Dtype  \n",
      "---  ------       --------------  -----  \n",
      " 0   Date         365 non-null    object \n",
      " 1   Day          365 non-null    object \n",
      " 2   Temperature  365 non-null    float64\n",
      " 3   Rainfall     365 non-null    float64\n",
      " 4   Flyers       365 non-null    int64  \n",
      " 5   Price        365 non-null    float64\n",
      " 6   Sales        365 non-null    int64  \n",
      "dtypes: float64(3), int64(2), object(2)\n",
      "memory usage: 20.1+ KB\n"
     ]
    }
   ],
   "source": [
    "df.info()"
   ]
  },
  {
   "cell_type": "markdown",
   "id": "88550a83",
   "metadata": {},
   "source": [
    "## Exercise 1a\n",
    "\n",
    "Use the IQR Range Rule and the upper and lower bounds to identify the lower outliers of each column of lemonade.csv, using the multiplier of 1.5. Do these lower outliers make sense? Which outliers should be kept?"
   ]
  },
  {
   "cell_type": "code",
   "execution_count": 35,
   "id": "3634a217",
   "metadata": {},
   "outputs": [
    {
     "name": "stdout",
     "output_type": "stream",
     "text": [
      "Temperature\n",
      "         Date     Day  Temperature  Rainfall  Flyers  Price  Sales\n",
      "364  12/31/17  Sunday         15.1       2.5       9    0.5      7\n",
      "-------------------\n",
      "Rainfall\n",
      "Empty DataFrame\n",
      "Columns: [Date, Day, Temperature, Rainfall, Flyers, Price, Sales]\n",
      "Index: []\n",
      "-------------------\n",
      "Flyers\n",
      "         Date      Day  Temperature  Rainfall  Flyers  Price  Sales\n",
      "324  11/21/17  Tuesday         47.0      0.95     -38    0.5     20\n",
      "-------------------\n",
      "Price\n",
      "Empty DataFrame\n",
      "Columns: [Date, Day, Temperature, Rainfall, Flyers, Price, Sales]\n",
      "Index: []\n",
      "-------------------\n",
      "Sales\n",
      "Empty DataFrame\n",
      "Columns: [Date, Day, Temperature, Rainfall, Flyers, Price, Sales]\n",
      "Index: []\n",
      "-------------------\n"
     ]
    }
   ],
   "source": [
    "# loop through columns and for each column that is not object datatype use function to get outliers\n",
    "for col in df.columns: \n",
    "    if df[col].dtype != 'object': \n",
    "        upper_outliers, lower_outliers = get_lower_and_upper_bounds(col, df=df, multiplier=1.5)\n",
    "        print(col) \n",
    "        print(lower_outliers) \n",
    "        print('-------------------') "
   ]
  },
  {
   "cell_type": "markdown",
   "id": "d642761b",
   "metadata": {},
   "source": [
    "#### The temperature outlier makes sense based on the date so I would keep that. The number of flyers does not make sense so is likely a typo and should be 38. Rainfall, price, and sales do not have any lower outliers."
   ]
  },
  {
   "cell_type": "markdown",
   "id": "bedfe3c3",
   "metadata": {},
   "source": [
    "## Exercise 1b\n",
    "\n",
    "Use the IQR Range Rule and the upper and upper bounds to identify the upper outliers of each column of lemonade.csv, using the multiplier of 1.5. Do these upper outliers make sense? Which outliers should be kept?"
   ]
  },
  {
   "cell_type": "code",
   "execution_count": 36,
   "id": "3ccd2c61",
   "metadata": {},
   "outputs": [
    {
     "name": "stdout",
     "output_type": "stream",
     "text": [
      "Temperature\n",
      "       Date       Day  Temperature  Rainfall  Flyers  Price  Sales\n",
      "41  2/11/17  Saturday        212.0      0.91      35    0.5     21\n",
      "-------------------\n",
      "Rainfall\n",
      "         Date        Day  Temperature  Rainfall  Flyers  Price  Sales\n",
      "0      1/1/17     Sunday         27.0      2.00      15    0.5     10\n",
      "1      1/2/17     Monday         28.9      1.33      15    0.5     13\n",
      "2      1/3/17    Tuesday         34.5      1.33      27    0.5     15\n",
      "5      1/6/17     Friday         25.3      1.54      23    0.5     11\n",
      "6      1/7/17   Saturday         32.9      1.54      19    0.5     13\n",
      "10    1/11/17  Wednesday         32.6      1.54      23    0.5     12\n",
      "11    1/12/17   Thursday         38.2      1.33      16    0.5     14\n",
      "12    1/13/17     Friday         37.5      1.33      19    0.5     15\n",
      "15    1/16/17     Monday         30.6      1.67      24    0.5     12\n",
      "16    1/17/17    Tuesday         32.2      1.43      26    0.5     14\n",
      "19    1/20/17     Friday         31.6      1.43      20    0.5     12\n",
      "23    1/24/17    Tuesday         28.6      1.54      20    0.5     12\n",
      "27    1/28/17   Saturday         34.9      1.33      15    0.5     13\n",
      "28    1/29/17     Sunday         35.2      1.33      27    0.5     14\n",
      "337   12/4/17     Monday         34.9      1.54      16    0.5     13\n",
      "338   12/5/17    Tuesday         22.0      1.82      11    0.5     10\n",
      "342   12/9/17   Saturday         31.2      1.43      19    0.5     14\n",
      "343  12/10/17     Sunday         31.3      1.82      15    0.5     11\n",
      "345  12/12/17    Tuesday         33.5      1.33      22    0.5     15\n",
      "346  12/13/17  Wednesday         32.2      1.43      26    0.5     14\n",
      "347  12/14/17   Thursday         31.9      1.54      24    0.5     13\n",
      "350  12/17/17     Sunday         32.2      1.33      16    0.5     14\n",
      "351  12/18/17     Monday         30.9      1.43      27    0.5     13\n",
      "354  12/21/17   Thursday         40.5      1.33      23    0.5     15\n",
      "355  12/22/17     Friday         30.9      1.54      17    0.5     13\n",
      "359  12/26/17    Tuesday         28.9      1.43      23    0.5     13\n",
      "363  12/30/17   Saturday         30.9      1.43      22    0.5     13\n",
      "364  12/31/17     Sunday         15.1      2.50       9    0.5      7\n",
      "-------------------\n",
      "Flyers\n",
      "        Date     Day  Temperature  Rainfall  Flyers  Price  Sales\n",
      "166  6/16/17  Friday         99.3      0.47      77    0.5     41\n",
      "194  7/14/17  Friday         92.0      0.50      80    0.5     40\n",
      "-------------------\n",
      "Price\n",
      "Empty DataFrame\n",
      "Columns: [Date, Day, Temperature, Rainfall, Flyers, Price, Sales]\n",
      "Index: []\n",
      "-------------------\n",
      "Sales\n",
      "       Date       Day  Temperature  Rainfall  Flyers  Price  Sales\n",
      "181  7/1/17  Saturday        102.9      0.47      59    0.5    143\n",
      "182  7/2/17    Sunday         93.4      0.51      68    0.5    158\n",
      "183  7/3/17    Monday         81.5      0.54      68    0.5    235\n",
      "184  7/4/17   Tuesday         84.2      0.59      49    0.5    534\n",
      "-------------------\n"
     ]
    }
   ],
   "source": [
    "# loop through columns and for each column that is not object datatype use function to get outliers\n",
    "for col in df.columns: \n",
    "    if df[col].dtype != 'object': \n",
    "        upper_outliers, lower_outliers = get_lower_and_upper_bounds(col, df=df, multiplier=1.5)\n",
    "        print(col) \n",
    "        print(upper_outliers) \n",
    "        print('-------------------') "
   ]
  },
  {
   "cell_type": "markdown",
   "id": "619370c6",
   "metadata": {},
   "source": [
    "#### A temperature of 212 is obviously an error and likely a typo. I would probably change it to 21 based on the temperature for prior days. The rainfall does not seem unusual other than maybe just a rainy year so I would keep that. The number of flyers and total sales is also not unusual considering it is during the hottest period of the year."
   ]
  },
  {
   "cell_type": "code",
   "execution_count": null,
   "id": "91f59fd3",
   "metadata": {},
   "outputs": [],
   "source": []
  }
 ],
 "metadata": {
  "kernelspec": {
   "display_name": "Python 3",
   "language": "python",
   "name": "python3"
  },
  "language_info": {
   "codemirror_mode": {
    "name": "ipython",
    "version": 3
   },
   "file_extension": ".py",
   "mimetype": "text/x-python",
   "name": "python",
   "nbconvert_exporter": "python",
   "pygments_lexer": "ipython3",
   "version": "3.8.8"
  }
 },
 "nbformat": 4,
 "nbformat_minor": 5
}
