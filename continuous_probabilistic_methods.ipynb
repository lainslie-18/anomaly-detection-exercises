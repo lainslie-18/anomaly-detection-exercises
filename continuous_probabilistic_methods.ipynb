{
 "cells": [
  {
   "cell_type": "code",
   "execution_count": 1,
   "id": "072c0f73",
   "metadata": {},
   "outputs": [],
   "source": [
    "import numpy as np\n",
    "import pandas as pd\n",
    "import matplotlib.pyplot as plt\n",
    "import seaborn as sns\n",
    "from scipy.stats import zscore"
   ]
  },
  {
   "cell_type": "code",
   "execution_count": null,
   "id": "e2c82636",
   "metadata": {},
   "outputs": [],
   "source": [
    "def get_lower_and_upper_bounds(series, df, multiplier=1.5):\n",
    "    '''\n",
    "    This function takes in a series and a multiplier and returns series items that are greater than the multiplier\n",
    "    times the interquartile range above the 75th percentile and less than the multiplier times the interquartile range\n",
    "    below the 25th percentile\n",
    "    '''\n",
    "    # get value at the 25th percentile\n",
    "    q1 = df[series].quantile(0.25)\n",
    "    # get value at the 75th percentile\n",
    "    q3 = df[series].quantile(0.75)\n",
    "    # calculate interquartile range\n",
    "    iqr = q3 - q1\n",
    "    # calculate upper and lower limits for the whiskers\n",
    "    lower_limit = q1 - (multiplier * iqr)\n",
    "    upper_limit = q3 + (multiplier * iqr)\n",
    "    # get outliers outside this range\n",
    "    upper_outliers = df[(df[series] > upper_limit)]\n",
    "    lower_outliers = df[(df[series] < lower_limit)]\n",
    "    \n",
    "    return upper_outliers, lower_outliers"
   ]
  },
  {
   "cell_type": "markdown",
   "id": "640efb65",
   "metadata": {},
   "source": [
    "# Exercise 1\n",
    "\n",
    "Using lemonade.csv dataset and focusing on continuous variables:"
   ]
  },
  {
   "cell_type": "code",
   "execution_count": 2,
   "id": "f4cf0da1",
   "metadata": {},
   "outputs": [
    {
     "data": {
      "text/html": [
       "<div>\n",
       "<style scoped>\n",
       "    .dataframe tbody tr th:only-of-type {\n",
       "        vertical-align: middle;\n",
       "    }\n",
       "\n",
       "    .dataframe tbody tr th {\n",
       "        vertical-align: top;\n",
       "    }\n",
       "\n",
       "    .dataframe thead th {\n",
       "        text-align: right;\n",
       "    }\n",
       "</style>\n",
       "<table border=\"1\" class=\"dataframe\">\n",
       "  <thead>\n",
       "    <tr style=\"text-align: right;\">\n",
       "      <th></th>\n",
       "      <th>Date</th>\n",
       "      <th>Day</th>\n",
       "      <th>Temperature</th>\n",
       "      <th>Rainfall</th>\n",
       "      <th>Flyers</th>\n",
       "      <th>Price</th>\n",
       "      <th>Sales</th>\n",
       "    </tr>\n",
       "  </thead>\n",
       "  <tbody>\n",
       "    <tr>\n",
       "      <th>0</th>\n",
       "      <td>1/1/17</td>\n",
       "      <td>Sunday</td>\n",
       "      <td>27.0</td>\n",
       "      <td>2.00</td>\n",
       "      <td>15</td>\n",
       "      <td>0.5</td>\n",
       "      <td>10</td>\n",
       "    </tr>\n",
       "    <tr>\n",
       "      <th>1</th>\n",
       "      <td>1/2/17</td>\n",
       "      <td>Monday</td>\n",
       "      <td>28.9</td>\n",
       "      <td>1.33</td>\n",
       "      <td>15</td>\n",
       "      <td>0.5</td>\n",
       "      <td>13</td>\n",
       "    </tr>\n",
       "    <tr>\n",
       "      <th>2</th>\n",
       "      <td>1/3/17</td>\n",
       "      <td>Tuesday</td>\n",
       "      <td>34.5</td>\n",
       "      <td>1.33</td>\n",
       "      <td>27</td>\n",
       "      <td>0.5</td>\n",
       "      <td>15</td>\n",
       "    </tr>\n",
       "    <tr>\n",
       "      <th>3</th>\n",
       "      <td>1/4/17</td>\n",
       "      <td>Wednesday</td>\n",
       "      <td>44.1</td>\n",
       "      <td>1.05</td>\n",
       "      <td>28</td>\n",
       "      <td>0.5</td>\n",
       "      <td>17</td>\n",
       "    </tr>\n",
       "    <tr>\n",
       "      <th>4</th>\n",
       "      <td>1/5/17</td>\n",
       "      <td>Thursday</td>\n",
       "      <td>42.4</td>\n",
       "      <td>1.00</td>\n",
       "      <td>33</td>\n",
       "      <td>0.5</td>\n",
       "      <td>18</td>\n",
       "    </tr>\n",
       "  </tbody>\n",
       "</table>\n",
       "</div>"
      ],
      "text/plain": [
       "     Date        Day  Temperature  Rainfall  Flyers  Price  Sales\n",
       "0  1/1/17     Sunday         27.0      2.00      15    0.5     10\n",
       "1  1/2/17     Monday         28.9      1.33      15    0.5     13\n",
       "2  1/3/17    Tuesday         34.5      1.33      27    0.5     15\n",
       "3  1/4/17  Wednesday         44.1      1.05      28    0.5     17\n",
       "4  1/5/17   Thursday         42.4      1.00      33    0.5     18"
      ]
     },
     "execution_count": 2,
     "metadata": {},
     "output_type": "execute_result"
    }
   ],
   "source": [
    "# pull in data\n",
    "df = pd.read_csv('https://gist.githubusercontent.com/ryanorsinger/19bc7eccd6279661bd13307026628ace/raw/e4b5d6787015a4782f96cad6d1d62a8bdbac54c7/lemonade.csv')\n",
    "df.head()"
   ]
  },
  {
   "cell_type": "code",
   "execution_count": null,
   "id": "031ed1a6",
   "metadata": {},
   "outputs": [],
   "source": [
    "df.info()"
   ]
  },
  {
   "cell_type": "markdown",
   "id": "aa0ecfe6",
   "metadata": {},
   "source": [
    "## Exercise 1a\n",
    "\n",
    "Use the IQR Range Rule and the upper and lower bounds to identify the lower outliers of each column of lemonade.csv, using the multiplier of 1.5. Do these lower outliers make sense? Which outliers should be kept?"
   ]
  },
  {
   "cell_type": "code",
   "execution_count": null,
   "id": "ca6c2d02",
   "metadata": {},
   "outputs": [],
   "source": [
    "# loop through columns and for each column that is not object datatype use function to get outliers\n",
    "for col in df.columns: \n",
    "    if df[col].dtype != 'object': \n",
    "        upper_outliers, lower_outliers = get_lower_and_upper_bounds(col, df=df, multiplier=1.5)\n",
    "        print(col) \n",
    "        print(lower_outliers) \n",
    "        print('-------------------') "
   ]
  },
  {
   "cell_type": "markdown",
   "id": "53e9c88d",
   "metadata": {},
   "source": [
    "#### The temperature outlier makes sense based on the date so I would keep that. The number of flyers does not make sense so is likely a typo and should be 38. Rainfall, price, and sales do not have any lower outliers."
   ]
  },
  {
   "cell_type": "markdown",
   "id": "26d979e6",
   "metadata": {},
   "source": [
    "## Exercise 1b\n",
    "\n",
    "Use the IQR Range Rule and the upper and upper bounds to identify the upper outliers of each column of lemonade.csv, using the multiplier of 1.5. Do these upper outliers make sense? Which outliers should be kept?"
   ]
  },
  {
   "cell_type": "code",
   "execution_count": null,
   "id": "0bbce946",
   "metadata": {},
   "outputs": [],
   "source": [
    "# loop through columns and for each column that is not object datatype use function to get outliers\n",
    "for col in df.columns: \n",
    "    if df[col].dtype != 'object': \n",
    "        upper_outliers, lower_outliers = get_lower_and_upper_bounds(col, df=df, multiplier=1.5)\n",
    "        print(col) \n",
    "        print(upper_outliers) \n",
    "        print('-------------------') "
   ]
  },
  {
   "cell_type": "markdown",
   "id": "60e345df",
   "metadata": {},
   "source": [
    "#### A temperature of 212 is obviously an error and likely a typo. I would probably change it to 21 based on the temperature for prior days. The rainfall does not seem unusual other than maybe just a rainy year so I would keep that. The number of flyers and total sales is also not unusual considering it is during the hottest period of the year. I might question sales of 534 as that is quite a bit more than the others, however, it happened on July 4th so they might have been selling at some event with a lot of attendees."
   ]
  },
  {
   "cell_type": "markdown",
   "id": "1aba33c0",
   "metadata": {},
   "source": [
    "## Exercise 1c\n",
    "\n",
    "Using the multiplier of 3, IQR Range Rule, and the lower bounds, identify the outliers below the lower bound in each colum of lemonade.csv. Do these lower outliers make sense? Which outliers should be kept?"
   ]
  },
  {
   "cell_type": "code",
   "execution_count": null,
   "id": "064a0e6a",
   "metadata": {},
   "outputs": [],
   "source": [
    "# loop through columns and for each column that is not object datatype use function to get outliers\n",
    "for col in df.columns: \n",
    "    if df[col].dtype != 'object': \n",
    "        upper_outliers, lower_outliers = get_lower_and_upper_bounds(col, df=df, multiplier=3)\n",
    "        print(col) \n",
    "        print(lower_outliers) \n",
    "        print('-------------------') "
   ]
  },
  {
   "cell_type": "markdown",
   "id": "fa96bc6a",
   "metadata": {},
   "source": [
    "#### The only outlier with a multiplier of 3 is -38 fliers which I would assume to be a typo and change it to 38"
   ]
  },
  {
   "cell_type": "markdown",
   "id": "0303cba5",
   "metadata": {},
   "source": [
    "## Exercise 1d\n",
    "\n",
    "Using the multiplier of 3, IQR Range Rule, and the upper bounds, identify the outliers above the upper_bound in each colum of lemonade.csv. Do these upper outliers make sense? Which outliers should be kept?"
   ]
  },
  {
   "cell_type": "code",
   "execution_count": null,
   "id": "aa9e8d79",
   "metadata": {},
   "outputs": [],
   "source": [
    "# loop through columns and for each column that is not object datatype use function to get outliers\n",
    "for col in df.columns: \n",
    "    if df[col].dtype != 'object': \n",
    "        upper_outliers, lower_outliers = get_lower_and_upper_bounds(col, df=df, multiplier=3)\n",
    "        print(col) \n",
    "        print(upper_outliers) \n",
    "        print('-------------------') "
   ]
  },
  {
   "cell_type": "markdown",
   "id": "d896629d",
   "metadata": {},
   "source": [
    "#### As mentioned in the previous comment, I would keep all of these other than the temperature which is obviously a typo or error."
   ]
  },
  {
   "cell_type": "code",
   "execution_count": null,
   "id": "6c410454",
   "metadata": {},
   "outputs": [],
   "source": [
    "df.head()"
   ]
  },
  {
   "cell_type": "markdown",
   "id": "2b4cd6c3",
   "metadata": {},
   "source": [
    "# Exercise 2\n",
    "\n",
    "Identify if any columns in lemonade.csv are normally distributed. For normally distributed columns:\n",
    "\n",
    "* Use a 2 sigma decision rule to isolate the outliers.\n",
    "\n",
    "* Do these make sense?\n",
    "\n",
    "* Should certain outliers be kept or removed?"
   ]
  },
  {
   "cell_type": "code",
   "execution_count": null,
   "id": "a99911b2",
   "metadata": {},
   "outputs": [],
   "source": [
    "# plot histograms for each of the columns\n",
    "fig, axs = plt.subplots(len(df.columns), figsize=(5, 25))\n",
    "for n, col in enumerate(df.columns):\n",
    "    df[col].hist(ax=axs[n])\n",
    "    plt.title(col)\n",
    "    plt.tight_layout()"
   ]
  },
  {
   "cell_type": "markdown",
   "id": "5f579412",
   "metadata": {},
   "source": [
    "#### Temperature, rainfall, and flyers are all fairly normally distributed."
   ]
  },
  {
   "cell_type": "code",
   "execution_count": null,
   "id": "5035a40d",
   "metadata": {},
   "outputs": [],
   "source": [
    "# use assign to create new columns with the zscores for each of the normally distributed columns\n",
    "df = df.assign(temp_zscore = zscore(df.Temperature), \n",
    "               rain_zscore = zscore(df.Rainfall), \n",
    "               flyers_zscore = zscore(df.Flyers))\n",
    "df.head()"
   ]
  },
  {
   "cell_type": "code",
   "execution_count": null,
   "id": "d940a920",
   "metadata": {},
   "outputs": [],
   "source": [
    "# get all observations where the temperature is greater than two standard deviations from the mean\n",
    "df[abs(df.temp_zscore) > 2]"
   ]
  },
  {
   "cell_type": "markdown",
   "id": "62dd927b",
   "metadata": {},
   "source": [
    "#### For temperature, even though more than two standard deviations from the mean, these are not uncommon other than 212. It may just have been a very hot summer and a few cold days during the winter so I would keep these but change 212 to 21."
   ]
  },
  {
   "cell_type": "code",
   "execution_count": null,
   "id": "5bd9038c",
   "metadata": {},
   "outputs": [],
   "source": [
    "# get all observations where the rainfall is greater than two standard deviations from the mean\n",
    "df[abs(df.rain_zscore) > 2]"
   ]
  },
  {
   "cell_type": "markdown",
   "id": "86425958",
   "metadata": {},
   "source": [
    "#### For rain, I would keep all observations as none of these are excessive even though outside two standard deviations from the mean."
   ]
  },
  {
   "cell_type": "code",
   "execution_count": null,
   "id": "1ce8d38e",
   "metadata": {},
   "outputs": [],
   "source": [
    "# get all observations where the rainfall is greater than two standard deviations from the mean\n",
    "df[abs(df.flyers_zscore) > 2]"
   ]
  },
  {
   "cell_type": "markdown",
   "id": "a65b4346",
   "metadata": {},
   "source": [
    "#### The only observation from flyers I would change is -38 as that is impossible and obviously a typo. All others are reasonable even though outside two standard deviations from the mean."
   ]
  },
  {
   "cell_type": "markdown",
   "id": "29c665f3",
   "metadata": {},
   "source": [
    "# Exercise 3\n",
    "\n",
    "Now use a 3 sigma decision rule to isolate the outliers in the normally distributed columns from lemonade.csv"
   ]
  },
  {
   "cell_type": "code",
   "execution_count": null,
   "id": "25a56b7a",
   "metadata": {},
   "outputs": [],
   "source": [
    "# get all observations where the temperature is greater than three standard deviations from the mean\n",
    "df[abs(df.temp_zscore) > 3]"
   ]
  },
  {
   "cell_type": "code",
   "execution_count": null,
   "id": "19202058",
   "metadata": {},
   "outputs": [],
   "source": [
    "# get all observations where the rainfall is greater than three standard deviations from the mean\n",
    "df[abs(df.rain_zscore) > 3]"
   ]
  },
  {
   "cell_type": "code",
   "execution_count": null,
   "id": "e69382e9",
   "metadata": {},
   "outputs": [],
   "source": [
    "# get all observations where the rainfall is greater than three standard deviations from the mean\n",
    "df[abs(df.flyers_zscore) > 3]"
   ]
  },
  {
   "cell_type": "code",
   "execution_count": null,
   "id": "76e7edfe",
   "metadata": {},
   "outputs": [],
   "source": []
  }
 ],
 "metadata": {
  "kernelspec": {
   "display_name": "Python 3",
   "language": "python",
   "name": "python3"
  },
  "language_info": {
   "codemirror_mode": {
    "name": "ipython",
    "version": 3
   },
   "file_extension": ".py",
   "mimetype": "text/x-python",
   "name": "python",
   "nbconvert_exporter": "python",
   "pygments_lexer": "ipython3",
   "version": "3.8.8"
  }
 },
 "nbformat": 4,
 "nbformat_minor": 5
}
